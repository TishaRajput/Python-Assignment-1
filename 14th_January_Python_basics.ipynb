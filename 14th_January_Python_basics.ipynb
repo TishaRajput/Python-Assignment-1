{
 "cells": [
  {
   "cell_type": "code",
   "execution_count": 6,
   "id": "2f67c603-d084-4a55-a42c-9f40cd49676b",
   "metadata": {},
   "outputs": [],
   "source": [
    "# Q.1\n",
    "x=15\n",
    "y=20"
   ]
  },
  {
   "cell_type": "code",
   "execution_count": 7,
   "id": "db1a5f80-223f-4017-a531-b0423785f15d",
   "metadata": {},
   "outputs": [
    {
     "data": {
      "text/plain": [
       "15"
      ]
     },
     "execution_count": 7,
     "metadata": {},
     "output_type": "execute_result"
    }
   ],
   "source": [
    "# Before swapping:value of x\n",
    "x"
   ]
  },
  {
   "cell_type": "code",
   "execution_count": 8,
   "id": "9f047763-d149-4d48-bc60-e001c33ed74d",
   "metadata": {},
   "outputs": [
    {
     "data": {
      "text/plain": [
       "20"
      ]
     },
     "execution_count": 8,
     "metadata": {},
     "output_type": "execute_result"
    }
   ],
   "source": [
    "# Before swapping:value of y\n",
    "y"
   ]
  },
  {
   "cell_type": "code",
   "execution_count": 9,
   "id": "48d84c29-8a92-4396-a445-04294e7e45b8",
   "metadata": {},
   "outputs": [],
   "source": [
    "x=x+y\n",
    "y=x-y\n",
    "x=x-y"
   ]
  },
  {
   "cell_type": "code",
   "execution_count": 10,
   "id": "de75d7dc-88d5-435a-8334-ead24cf1b86c",
   "metadata": {},
   "outputs": [
    {
     "data": {
      "text/plain": [
       "20"
      ]
     },
     "execution_count": 10,
     "metadata": {},
     "output_type": "execute_result"
    }
   ],
   "source": [
    "# After swapping:value of x\n",
    "x"
   ]
  },
  {
   "cell_type": "code",
   "execution_count": 11,
   "id": "018479e1-1459-40b0-9065-a724664424cc",
   "metadata": {},
   "outputs": [
    {
     "data": {
      "text/plain": [
       "15"
      ]
     },
     "execution_count": 11,
     "metadata": {},
     "output_type": "execute_result"
    }
   ],
   "source": [
    "# After swapping:value of y\n",
    "y"
   ]
  },
  {
   "cell_type": "code",
   "execution_count": 12,
   "id": "9dcd399a-0302-43e1-8680-b6cf24d6482d",
   "metadata": {},
   "outputs": [
    {
     "name": "stdin",
     "output_type": "stream",
     "text": [
      " 34\n",
      " 2\n"
     ]
    }
   ],
   "source": [
    "# Q.2\n",
    "length=int(input())\n",
    "width=int(input())\n",
    "area=length*width"
   ]
  },
  {
   "cell_type": "code",
   "execution_count": 14,
   "id": "1238dd23-64fd-456d-8e90-dae97c9cb8c9",
   "metadata": {},
   "outputs": [
    {
     "data": {
      "text/plain": [
       "68"
      ]
     },
     "execution_count": 14,
     "metadata": {},
     "output_type": "execute_result"
    }
   ],
   "source": [
    "# Area of rectangle is:\n",
    "area"
   ]
  },
  {
   "cell_type": "code",
   "execution_count": 18,
   "id": "b534def0-bee1-4bc7-9309-a6668d330e68",
   "metadata": {},
   "outputs": [
    {
     "name": "stdin",
     "output_type": "stream",
     "text": [
      " 12\n"
     ]
    }
   ],
   "source": [
    "# Q.3\n",
    "# Temperature in Celsius\n",
    "temp=int(input())\n",
    "fah=(temp*9/5)+32"
   ]
  },
  {
   "cell_type": "code",
   "execution_count": 19,
   "id": "65bc7cab-c547-49e0-bcc3-84241e77b283",
   "metadata": {},
   "outputs": [
    {
     "data": {
      "text/plain": [
       "53.6"
      ]
     },
     "execution_count": 19,
     "metadata": {},
     "output_type": "execute_result"
    }
   ],
   "source": [
    "# Temperature in Fahrenheit\n",
    "fah"
   ]
  },
  {
   "cell_type": "code",
   "execution_count": 20,
   "id": "0d3ca882-428d-4de5-8c57-90170038d971",
   "metadata": {},
   "outputs": [
    {
     "name": "stdin",
     "output_type": "stream",
     "text": [
      " Tisha\n"
     ]
    }
   ],
   "source": [
    "# Q.1\n",
    "text=input()"
   ]
  },
  {
   "cell_type": "code",
   "execution_count": 21,
   "id": "bc8d21b0-ac6d-4f28-8bad-f67aa0f2994e",
   "metadata": {},
   "outputs": [
    {
     "data": {
      "text/plain": [
       "5"
      ]
     },
     "execution_count": 21,
     "metadata": {},
     "output_type": "execute_result"
    }
   ],
   "source": [
    "# Prints the length of given string\n",
    "len(text)"
   ]
  },
  {
   "cell_type": "code",
   "execution_count": 22,
   "id": "51fb5c0f-39ab-4d5e-bcb6-efc19336768d",
   "metadata": {},
   "outputs": [
    {
     "name": "stdin",
     "output_type": "stream",
     "text": [
      " This is a very old mushroom tree and it has been here since ages.\n"
     ]
    }
   ],
   "source": [
    "# Q.2\n",
    "sent=input()"
   ]
  },
  {
   "cell_type": "code",
   "execution_count": 25,
   "id": "854cb3f8-b0d4-42e6-bccd-1754e8e5eccc",
   "metadata": {},
   "outputs": [
    {
     "data": {
      "text/plain": [
       "4"
      ]
     },
     "execution_count": 25,
     "metadata": {},
     "output_type": "execute_result"
    }
   ],
   "source": [
    "# Counts the total occurence of the vowel \"a\" in the given string\n",
    "sent.count(\"a\")"
   ]
  },
  {
   "cell_type": "code",
   "execution_count": 26,
   "id": "cf78c39d-b53f-464b-b142-e36813e385d3",
   "metadata": {},
   "outputs": [
    {
     "data": {
      "text/plain": [
       "9"
      ]
     },
     "execution_count": 26,
     "metadata": {},
     "output_type": "execute_result"
    }
   ],
   "source": [
    "# Counts the total occurence of the vowel \"e\" in the given string\n",
    "sent.count(\"e\")"
   ]
  },
  {
   "cell_type": "code",
   "execution_count": 27,
   "id": "03b64008-fb20-4c75-8542-c3384282f6e8",
   "metadata": {},
   "outputs": [
    {
     "data": {
      "text/plain": [
       "4"
      ]
     },
     "execution_count": 27,
     "metadata": {},
     "output_type": "execute_result"
    }
   ],
   "source": [
    "# Counts the total occurence of the vowel \"i\" in the given string\n",
    "sent.count(\"i\")"
   ]
  },
  {
   "cell_type": "code",
   "execution_count": 28,
   "id": "d5df93ca-53e5-4049-b8f5-b7513573ae68",
   "metadata": {},
   "outputs": [
    {
     "data": {
      "text/plain": [
       "3"
      ]
     },
     "execution_count": 28,
     "metadata": {},
     "output_type": "execute_result"
    }
   ],
   "source": [
    "# Counts the total occurence of the vowel \"o\" in the given string\n",
    "sent.count(\"o\")"
   ]
  },
  {
   "cell_type": "code",
   "execution_count": 29,
   "id": "bd6d90c3-6142-4b27-964b-91a490b9a80f",
   "metadata": {},
   "outputs": [
    {
     "data": {
      "text/plain": [
       "1"
      ]
     },
     "execution_count": 29,
     "metadata": {},
     "output_type": "execute_result"
    }
   ],
   "source": [
    "# Counts the total occurence of the vowel \"u\" in the given string\n",
    "sent.count(\"u\")"
   ]
  },
  {
   "cell_type": "code",
   "execution_count": 30,
   "id": "2f8b2d44-ebb8-405b-8b94-46ada560d7fd",
   "metadata": {},
   "outputs": [],
   "source": [
    "# Q.3\n",
    "s1=\"I am on cloud nine!\""
   ]
  },
  {
   "cell_type": "code",
   "execution_count": 31,
   "id": "60ebc68e-4d76-4a44-9e02-ae7f9232b092",
   "metadata": {},
   "outputs": [
    {
     "data": {
      "text/plain": [
       "'I am on cloud nine!'"
      ]
     },
     "execution_count": 31,
     "metadata": {},
     "output_type": "execute_result"
    }
   ],
   "source": [
    "# Original string\n",
    "s1"
   ]
  },
  {
   "cell_type": "code",
   "execution_count": 32,
   "id": "41bed757-c873-4022-9703-c73c88ec70c3",
   "metadata": {},
   "outputs": [
    {
     "data": {
      "text/plain": [
       "'!enin duolc no ma I'"
      ]
     },
     "execution_count": 32,
     "metadata": {},
     "output_type": "execute_result"
    }
   ],
   "source": [
    "# Reversed string\n",
    "s1[::-1]"
   ]
  },
  {
   "cell_type": "code",
   "execution_count": 35,
   "id": "d063310a-da1a-4fec-aad7-0fdae44787b2",
   "metadata": {},
   "outputs": [
    {
     "name": "stdin",
     "output_type": "stream",
     "text": [
      " madam\n"
     ]
    }
   ],
   "source": [
    "# Q.4\n",
    "# Origianl string\n",
    "s2=input()"
   ]
  },
  {
   "cell_type": "code",
   "execution_count": 38,
   "id": "bd3dfb65-35d5-498e-9589-73498a3db49b",
   "metadata": {},
   "outputs": [],
   "source": [
    "r=s2[::-1]"
   ]
  },
  {
   "cell_type": "code",
   "execution_count": 39,
   "id": "ef995d89-4e94-4d62-ab3e-0e2e444aa181",
   "metadata": {},
   "outputs": [
    {
     "data": {
      "text/plain": [
       "'madam'"
      ]
     },
     "execution_count": 39,
     "metadata": {},
     "output_type": "execute_result"
    }
   ],
   "source": [
    "# Reversed string\n",
    "r"
   ]
  },
  {
   "cell_type": "code",
   "execution_count": 40,
   "id": "0c057c96-2fec-4e95-bba0-233d34ba760c",
   "metadata": {},
   "outputs": [
    {
     "name": "stdout",
     "output_type": "stream",
     "text": [
      "Palindrome Number!\n"
     ]
    }
   ],
   "source": [
    "if s2==r:\n",
    "    print(\"Palindrome Number!\")\n",
    "else:\n",
    "    print(\"Not a Palindrome Number!\")"
   ]
  },
  {
   "cell_type": "code",
   "execution_count": 53,
   "id": "f9162ac0-f9f8-46c4-a6c7-d474ea0b5c06",
   "metadata": {},
   "outputs": [
    {
     "name": "stdin",
     "output_type": "stream",
     "text": [
      "          Have a good day!         \n"
     ]
    }
   ],
   "source": [
    "# Q.5\n",
    "# Original string\n",
    "t1=input()"
   ]
  },
  {
   "cell_type": "code",
   "execution_count": 54,
   "id": "9a37695e-f1d1-4ff1-9dac-233a19a955bd",
   "metadata": {},
   "outputs": [],
   "source": [
    "t2=t1.strip()"
   ]
  },
  {
   "cell_type": "code",
   "execution_count": 55,
   "id": "62e9f277-3eb9-4ddc-b359-fecda7d5e3af",
   "metadata": {},
   "outputs": [
    {
     "data": {
      "text/plain": [
       "'Have a good day!'"
      ]
     },
     "execution_count": 55,
     "metadata": {},
     "output_type": "execute_result"
    }
   ],
   "source": [
    "# Modified string with no spaces\n",
    "t2"
   ]
  },
  {
   "cell_type": "code",
   "execution_count": null,
   "id": "b0b48cb0-f383-4d8e-b128-a1f520d8b148",
   "metadata": {},
   "outputs": [],
   "source": []
  }
 ],
 "metadata": {
  "kernelspec": {
   "display_name": "Python 3 (ipykernel)",
   "language": "python",
   "name": "python3"
  },
  "language_info": {
   "codemirror_mode": {
    "name": "ipython",
    "version": 3
   },
   "file_extension": ".py",
   "mimetype": "text/x-python",
   "name": "python",
   "nbconvert_exporter": "python",
   "pygments_lexer": "ipython3",
   "version": "3.10.8"
  }
 },
 "nbformat": 4,
 "nbformat_minor": 5
}
